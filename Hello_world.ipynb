{
  "metadata": {
    "kernelspec": {
      "name": "python",
      "display_name": "Python (Pyodide)",
      "language": "python"
    },
    "language_info": {
      "codemirror_mode": {
        "name": "python",
        "version": 3
      },
      "file_extension": ".py",
      "mimetype": "text/x-python",
      "name": "python",
      "nbconvert_exporter": "python",
      "pygments_lexer": "ipython3",
      "version": "3.8"
    }
  },
  "nbformat_minor": 5,
  "nbformat": 4,
  "cells": [
    {
      "id": "8720ec80",
      "cell_type": "markdown",
      "source": "This file produce some printing",
      "metadata": {}
    },
    {
      "id": "64cbdb25",
      "cell_type": "code",
      "source": "print(\"Hello world\")",
      "metadata": {},
      "outputs": [],
      "execution_count": null
    },
    {
      "id": "98d59b93",
      "cell_type": "markdown",
      "source": "We introduce some interaction with the user",
      "metadata": {}
    },
    {
      "id": "4cc8f652",
      "cell_type": "code",
      "source": "name = input(\"quelle est ton nom?\")\nprint(\"\\nHello \" + name)",
      "metadata": {},
      "outputs": [],
      "execution_count": null
    },
    {
      "id": "5df0808a",
      "cell_type": "code",
      "source": "",
      "metadata": {},
      "outputs": [],
      "execution_count": null
    }
  ]
}